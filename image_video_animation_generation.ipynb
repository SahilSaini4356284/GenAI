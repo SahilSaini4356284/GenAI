{
  "cells": [
    {
      "cell_type": "markdown",
      "metadata": {
        "id": "view-in-github",
        "colab_type": "text"
      },
      "source": [
        "<a href=\"https://colab.research.google.com/github/SahilSaini4356284/GenAI/blob/main/image_video_animation_generation.ipynb\" target=\"_parent\"><img src=\"https://colab.research.google.com/assets/colab-badge.svg\" alt=\"Open In Colab\"/></a>"
      ]
    },
    {
      "cell_type": "markdown",
      "source": [
        "# Group Members' IDs and Names\n",
        "\n",
        "```python\n",
        "*group_members* = [\n",
        "    {\"name\": \"Manjot Kaur\", \"id\": \"4357351\"},\n",
        "    {\"name\": \"Sahil Saini\", \"id\": \"4356284\"}\n",
        "]\n",
        "\n",
        "**project_description and details** = \"\"\"\n",
        "The project revolves around the development of an advanced image generator that harnesses the power of machine learning and artificial intelligence (AI) to produce high-quality images based on user-provided prompts. Let's delve into a comprehensive analysis of the project:\n",
        "\n",
        "Purpose and Scope: The primary objective of the project is to create a versatile platform for creative expression, allowing users to generate customized images tailored to their preferences and requirements. By enabling users to input textual prompts, the image generator leverages sophisticated AI models to interpret and transform these prompts into visually compelling images.\n",
        "\n",
        "Technological Framework: The project employs state-of-the-art techniques in machine learning, particularly in the domain of generative models such as Generative Adversarial Networks (GANs) or Transformers. These models are trained on vast datasets of images to learn complex patterns and correlations, enabling them to generate realistic and diverse images in response to user prompts.\n",
        "\n",
        "User Interaction and Experience: A key aspect of the project is the design of an intuitive and user-friendly interface that facilitates seamless interaction with the image generator. Users are presented with options to input prompts, select desired image styles or themes, and explore the generated images. The interface may also incorporate features for feedback submission and community engagement, fostering a collaborative environment for creative exploration.\n",
        "\n",
        "Algorithmic Innovation: The project involves the implementation and refinement of advanced AI algorithms for image generation. This includes fine-tuning model architectures, training procedures, and optimization techniques to enhance the quality and diversity of generated images. Additionally, innovative approaches may be explored to enable the generation of contextually relevant images based on the semantics of user prompts.\n",
        "\n",
        "Quality Control and Evaluation: To ensure the output images meet high standards of visual fidelity and aesthetic appeal, the project incorporates mechanisms for quality control and evaluation. This may involve the integration of perceptual metrics, human feedback loops, and automated validation procedures to assess the realism, coherence, and artistic merit of generated images.\n",
        "\n",
        "Scalability and Performance: As the demand for image generation grows, scalability and performance become crucial considerations. The project focuses on optimizing the image generator's performance to handle large-scale inference tasks efficiently. This includes strategies for parallel processing, distributed computing, and resource management to minimize latency and maximize throughput.\n",
        "\n",
        "Applications and Impact: The project's outcomes have broad applications across various domains, including art, design, entertainment, advertising, and more. By democratizing the process of image creation and fostering creative expression, the image generator empowers individuals and businesses to realize their artistic visions and enhance their visual content.\n",
        "\"\"\"\n",
        "### **Objectives**\n",
        "\n",
        "\"\"\"1. **Image Generation from Prompts**: Enable users to generate images by providing textual prompts, allowing for personalized and context-aware image creation.\n",
        "\n",
        "2. **Advanced AI Models**: Implement cutting-edge AI models trained on large datasets to ensure the generation of realistic and diverse images across various categories and themes.\n",
        "\n",
        "3. **Interactive Interface**: Design an intuitive and user-friendly interface that facilitates seamless interaction with the image generator, enabling users to input prompts, explore generated images, and provide feedback.\n",
        "\n",
        "4. **Quality Control and Enhancement**: Incorporate mechanisms for quality control and image enhancement to ensure the output images meet high standards of visual fidelity and aesthetic appeal.\n",
        "\n",
        "5. **Performance Optimization**: Optimize the performance of the image generator to efficiently handle diverse user requests while minimizing latency and resource utilization.\n",
        "\n",
        "\"\"\"### **Expected Outcomes**\n",
        "\n",
        "\"\"\"1. **Enhanced Creativity**: Empower users to unleash their creativity by generating custom images tailored to their preferences and imagination.\n",
        "\n",
        "2. **Diverse Image Collection**: Build a vast repository of generated images spanning various genres, styles, and concepts, catering to a wide range of user interests and requirements.\n",
        "\n",
        "3. **User Engagement and Satisfaction**: Foster a vibrant community of users engaged in exploring, sharing, and collaborating on image generation projects, fostering creativity and innovation.\n",
        "\n",
        "4. **Research Contributions**: Contribute valuable insights and advancements to the fields of artificial intelligence, machine learning, and computer vision through the development and refinement of advanced image generation techniques.\n",
        "\n",
        "5. **Commercial Applications**: Explore potential commercial applications of the image generator in industries such as advertising, design, entertainment, and gaming, unlocking new opportunities for revenue generation and business growth.\n",
        "\n",
        "The detailed project description outlines the objectives, expected outcomes, and potential impact of the image generator project, highlighting its significance in advancing the state of the art in AI-driven image synthesis and creative expression.\"\"\"\n",
        "\n",
        "**Modifications** = \"\"\"\n",
        "The modifications made to the GenAI project are as follows:\n",
        "\n",
        " **Sunset Image Generation**: Added a new prompt option to allow users to generate images of beautiful sunsets. Users can input a prompt related to sunsets to generate visually stunning images capturing the beauty of dusk.\n",
        "**Documentation Updates**: Updated project documentation to reflect the new features and provide comprehensive guidance for users on how to utilize the image generator effectively.\n",
        "\n",
        "\"\"\"\n"
      ],
      "metadata": {
        "id": "gIipFP-U41oK",
        "outputId": "0afadcce-55ae-4723-8725-7478e4ee34eb"
      }
    },
    {
      "cell_type": "code",
      "execution_count": null,
      "metadata": {
        "colab": {
          "base_uri": "https://localhost:8080/"
        },
        "id": "K-f4rzIDbk8n",
        "outputId": "4bfdde7d-e752-4d27-ce93-28cba1c9eb04",
        "cellView": "form"
      },
      "outputs": [
        {
          "name": "stdout",
          "output_type": "stream",
          "text": [
            "Collecting replicate\n",
            "  Downloading replicate-0.13.0-py3-none-any.whl (24 kB)\n",
            "Requirement already satisfied: packaging in /usr/local/lib/python3.10/dist-packages (from replicate) (23.1)\n",
            "Requirement already satisfied: pydantic>1 in /usr/local/lib/python3.10/dist-packages (from replicate) (1.10.12)\n",
            "Requirement already satisfied: requests>2 in /usr/local/lib/python3.10/dist-packages (from replicate) (2.31.0)\n",
            "Requirement already satisfied: typing-extensions>=4.2.0 in /usr/local/lib/python3.10/dist-packages (from pydantic>1->replicate) (4.5.0)\n",
            "Requirement already satisfied: charset-normalizer<4,>=2 in /usr/local/lib/python3.10/dist-packages (from requests>2->replicate) (3.2.0)\n",
            "Requirement already satisfied: idna<4,>=2.5 in /usr/local/lib/python3.10/dist-packages (from requests>2->replicate) (3.4)\n",
            "Requirement already satisfied: urllib3<3,>=1.21.1 in /usr/local/lib/python3.10/dist-packages (from requests>2->replicate) (2.0.4)\n",
            "Requirement already satisfied: certifi>=2017.4.17 in /usr/local/lib/python3.10/dist-packages (from requests>2->replicate) (2023.7.22)\n",
            "Installing collected packages: replicate\n",
            "Successfully installed replicate-0.13.0\n"
          ]
        }
      ],
      "source": [
        "# @title Install Replicate\n",
        "!pip install replicate"
      ]
    },
    {
      "cell_type": "markdown",
      "metadata": {
        "id": "4v_YifVbl69O"
      },
      "source": [
        "https://replicate.com/andreasjansson/stable-diffusion-animation/api#input-output_format\n",
        "List of parameters"
      ]
    },
    {
      "cell_type": "code",
      "execution_count": null,
      "metadata": {
        "id": "cFmhr3PSf4G2",
        "cellView": "form"
      },
      "outputs": [],
      "source": [
        "# @title #Get your here: https://replicate.com/signin?next=/account/api-tokens (free for few trials)\n",
        "API = \"\" # @param {type:\"string\"}\n",
        "import os\n",
        "\n",
        "os.environ[\"REPLICATE_API_TOKEN\"] = API #find it here: https://replicate.com/signin?next=/account/api-tokens\n"
      ]
    },
    {
      "cell_type": "code",
      "execution_count": null,
      "metadata": {
        "colab": {
          "base_uri": "https://localhost:8080/"
        },
        "id": "0zz83wA6cqSF",
        "outputId": "cb34077c-0ba3-4abd-8bf5-17525ef6d0a7"
      },
      "outputs": [
        {
          "data": {
            "text/plain": [
              "['https://pbxt.replicate.delivery/Jfhb6KGpfKoxbkn4Ax5d3fcQZALdHhIAvynr11FgceTEx3YGB/out-0.png']"
            ]
          },
          "execution_count": 3,
          "metadata": {},
          "output_type": "execute_result"
        }
      ],
      "source": [
        "# @title Generate Impage\n",
        "prompt = \"\" # @param {type:\"string\"}\n",
        "import replicate\n",
        "\n",
        "output = replicate.run(\n",
        "  \"stability-ai/stable-diffusion:27b93a2413e7f36cd83da926f3656280b2931564ff050bf9575f1fdf9bcd7478\",\n",
        "  input={prompt}\n",
        ")\n",
        "\n",
        "output\n",
        "\n",
        "# @title Generate Image with Sunset Prompt\n",
        "prompt = \"sunset over the ocean\"  # Update prompt with sunset-related text\n",
        "\n",
        "import replicate\n",
        "\n",
        "output = replicate.run(\n",
        "    \"stability-ai/stable-diffusion:27b93a2413e7f36cd83da926f3656280b2931564ff050bf9575f1fdf9bcd7478\",\n",
        "    input={\"prompt\": prompt}\n",
        ")\n",
        "\n",
        "output  # Display output for further processing or analysis\n",
        "\n",
        "# @title Show Image\n",
        "from IPython.display import Image\n",
        "\n",
        "output_image = output\n",
        "Image(url=output_image[0])  # Display the generated image"
      ]
    },
    {
      "cell_type": "code",
      "execution_count": null,
      "metadata": {
        "colab": {
          "base_uri": "https://localhost:8080/",
          "height": 533
        },
        "id": "hwXEISnemCLj",
        "outputId": "54a8eb33-90b7-4b1d-85c0-d760054ee917",
        "cellView": "form"
      },
      "outputs": [
        {
          "data": {
            "text/html": [
              "<img src=\"https://pbxt.replicate.delivery/Jfhb6KGpfKoxbkn4Ax5d3fcQZALdHhIAvynr11FgceTEx3YGB/out-0.png\"/>"
            ],
            "text/plain": [
              "<IPython.core.display.Image object>"
            ]
          },
          "execution_count": 4,
          "metadata": {},
          "output_type": "execute_result"
        }
      ],
      "source": [
        "# @title Show image\n",
        "from IPython.display import Image\n",
        "output_image = output\n",
        "Image(url=output_image[0])"
      ]
    },
    {
      "cell_type": "code",
      "execution_count": null,
      "metadata": {
        "colab": {
          "base_uri": "https://localhost:8080/"
        },
        "id": "Misa5E4QiWNZ",
        "outputId": "c4e0ddc9-eeb2-4bd3-cfd1-23d34cbb609c",
        "cellView": "form"
      },
      "outputs": [
        {
          "data": {
            "text/plain": [
              "<generator object Prediction.output_iterator at 0x7b67c8627ca0>"
            ]
          },
          "execution_count": 5,
          "metadata": {},
          "output_type": "execute_result"
        }
      ],
      "source": [
        "# @title Video/gif/animation/Generarion\n",
        "import replicate\n",
        "output = replicate.run(\n",
        "    \"andreasjansson/stable-diffusion-animation:ca1f5e306e5721e19c473e0d094e6603f0456fe759c10715fcd6c1b79242d4a5\",\n",
        "    prompt_start = \"wearing a VR headset\", # @param {type:\"string\"}\n",
        "    prompt_end = \"Removing a VR headset\", # @param {type:\"string\"}\n",
        "    output_format= \"gif\",# @param {type:\"string\"}\n",
        "    input={\"prompt_start\":\"wearing a VR headset\",\n",
        "           \"prompt_end\":\"Removing a VR headset\",\n",
        "           \"output_format\": \"gif\",\n",
        "            \"gif_ping_pong\": True\n",
        "           }\n",
        ")\n",
        "output"
      ]
    },
    {
      "cell_type": "code",
      "execution_count": null,
      "metadata": {
        "colab": {
          "background_save": true
        },
        "id": "BB0LZJTyjA7Z",
        "cellView": "form",
        "outputId": "e7d6e3c5-ebe3-4e32-c334-5e132c115b1b"
      },
      "outputs": [
        {
          "name": "stdout",
          "output_type": "stream",
          "text": [
            "https://replicate.delivery/pbxt/M70CudfSsfolIE6TR7EqFHyeFtJ7pWDmVIFSzJGj0DsRDcMjA/video.gif\n"
          ]
        }
      ],
      "source": [
        "# @title generate video\n",
        "for item in output:\n",
        "     #https://replicate.com/andreasjansson/stable-diffusion-animation/versions/ca1f5e306e5721e19c473e0d094e6603f0456fe759c10715fcd6c1b79242d4a5/api#output-schema\n",
        "    print(item)"
      ]
    },
    {
      "cell_type": "code",
      "execution_count": null,
      "metadata": {
        "id": "fuPgsixhkxM4",
        "cellView": "form"
      },
      "outputs": [],
      "source": [
        "# @title get the video on colab\n",
        "gif_url= item[0:len(item)]"
      ]
    },
    {
      "cell_type": "code",
      "execution_count": null,
      "metadata": {
        "colab": {
          "base_uri": "https://localhost:8080/",
          "height": 533
        },
        "id": "6VPPvsE3km93",
        "outputId": "8943d20d-a83d-4737-91bc-0780509d0ddc",
        "cellView": "form"
      },
      "outputs": [
        {
          "data": {
            "text/html": [
              "<img src=\"https://replicate.delivery/pbxt/DfrKeQtabsmfwoNf3WicflhTszXmlU8vTWEULDkNnpcVIxwLC/video.gif\"/>"
            ],
            "text/plain": [
              "<IPython.core.display.Image object>"
            ]
          },
          "metadata": {},
          "output_type": "display_data"
        }
      ],
      "source": [
        "# @title Show the video\n",
        "import requests\n",
        "from IPython.display import display, Image\n",
        "from PIL import Image as PILImage\n",
        "from io import BytesIO\n",
        "response = requests.get(gif_url)\n",
        "if response.status_code == 200:\n",
        "    # Display the GIF in the notebook\n",
        "    display(Image(url=gif_url))\n",
        "\n",
        "    # Save the GIF in the Colab environment\n",
        "    with open(\"gif_output.gif\", \"wb\") as f:\n",
        "        f.write(response.content)\n",
        "\n",
        "    # Show a saved GIF using PIL\n",
        "    saved_gif = PILImage.open(\"gif_output.gif\")\n",
        "    saved_gif.show()\n",
        "else:\n",
        "    print(\"Failed to fetch GIF\")\n"
      ]
    },
    {
      "cell_type": "code",
      "source": [
        "# @title Update Documentation\n",
        "# Update project documentation to reflect the new feature and provide guidance for users\n",
        "documentation_updates = \"\"\"\n",
        "**Sunset Image Generation**: Added a new prompt option to allow users to generate images of beautiful sunsets. Users can input a prompt related to sunsets to generate visually stunning images capturing the beauty of dusk.\n",
        "**Documentation Updates**: Updated project documentation to reflect the new features and provide comprehensive guidance for users on how to utilize the image generator effectively, including the new sunset image generation feature.\n",
        "\"\"\"\n",
        "# Append the documentation updates to the existing modifications section\n",
        "modifications += documentation_updates"
      ],
      "metadata": {
        "id": "XzUcBRY1-cc2"
      },
      "execution_count": null,
      "outputs": []
    }
  ],
  "metadata": {
    "colab": {
      "provenance": [],
      "include_colab_link": true
    },
    "kernelspec": {
      "display_name": "Python 3",
      "name": "python3"
    },
    "language_info": {
      "name": "python"
    }
  },
  "nbformat": 4,
  "nbformat_minor": 0
}