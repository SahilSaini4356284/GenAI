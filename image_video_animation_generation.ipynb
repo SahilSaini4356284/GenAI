{
  "cells": [
    {
      "cell_type": "markdown",
      "metadata": {
        "id": "view-in-github",
        "colab_type": "text"
      },
      "source": [
        "<a href=\"https://colab.research.google.com/github/SahilSaini4356284/GenAI/blob/main/image_video_animation_generation.ipynb\" target=\"_parent\"><img src=\"https://colab.research.google.com/assets/colab-badge.svg\" alt=\"Open In Colab\"/></a>"
      ]
    },
    {
      "cell_type": "code",
      "execution_count": 2,
      "metadata": {
        "colab": {
          "base_uri": "https://localhost:8080/"
        },
        "id": "K-f4rzIDbk8n",
        "outputId": "c4aa64d2-6afe-4282-b610-05dae814b01d"
      },
      "outputs": [
        {
          "output_type": "stream",
          "name": "stdout",
          "text": [
            "Collecting replicate\n",
            "  Downloading replicate-0.25.1-py3-none-any.whl (39 kB)\n",
            "Collecting httpx<1,>=0.21.0 (from replicate)\n",
            "  Downloading httpx-0.27.0-py3-none-any.whl (75 kB)\n",
            "\u001b[2K     \u001b[90m━━━━━━━━━━━━━━━━━━━━━━━━━━━━━━━━━━━━━━━━\u001b[0m \u001b[32m75.6/75.6 kB\u001b[0m \u001b[31m5.3 MB/s\u001b[0m eta \u001b[36m0:00:00\u001b[0m\n",
            "\u001b[?25hRequirement already satisfied: packaging in /usr/local/lib/python3.10/dist-packages (from replicate) (24.0)\n",
            "Requirement already satisfied: pydantic>1.10.7 in /usr/local/lib/python3.10/dist-packages (from replicate) (2.6.4)\n",
            "Requirement already satisfied: typing-extensions>=4.5.0 in /usr/local/lib/python3.10/dist-packages (from replicate) (4.10.0)\n",
            "Requirement already satisfied: anyio in /usr/local/lib/python3.10/dist-packages (from httpx<1,>=0.21.0->replicate) (3.7.1)\n",
            "Requirement already satisfied: certifi in /usr/local/lib/python3.10/dist-packages (from httpx<1,>=0.21.0->replicate) (2024.2.2)\n",
            "Collecting httpcore==1.* (from httpx<1,>=0.21.0->replicate)\n",
            "  Downloading httpcore-1.0.5-py3-none-any.whl (77 kB)\n",
            "\u001b[2K     \u001b[90m━━━━━━━━━━━━━━━━━━━━━━━━━━━━━━━━━━━━━━━━\u001b[0m \u001b[32m77.9/77.9 kB\u001b[0m \u001b[31m12.8 MB/s\u001b[0m eta \u001b[36m0:00:00\u001b[0m\n",
            "\u001b[?25hRequirement already satisfied: idna in /usr/local/lib/python3.10/dist-packages (from httpx<1,>=0.21.0->replicate) (3.6)\n",
            "Requirement already satisfied: sniffio in /usr/local/lib/python3.10/dist-packages (from httpx<1,>=0.21.0->replicate) (1.3.1)\n",
            "Collecting h11<0.15,>=0.13 (from httpcore==1.*->httpx<1,>=0.21.0->replicate)\n",
            "  Downloading h11-0.14.0-py3-none-any.whl (58 kB)\n",
            "\u001b[2K     \u001b[90m━━━━━━━━━━━━━━━━━━━━━━━━━━━━━━━━━━━━━━━━\u001b[0m \u001b[32m58.3/58.3 kB\u001b[0m \u001b[31m9.0 MB/s\u001b[0m eta \u001b[36m0:00:00\u001b[0m\n",
            "\u001b[?25hRequirement already satisfied: annotated-types>=0.4.0 in /usr/local/lib/python3.10/dist-packages (from pydantic>1.10.7->replicate) (0.6.0)\n",
            "Requirement already satisfied: pydantic-core==2.16.3 in /usr/local/lib/python3.10/dist-packages (from pydantic>1.10.7->replicate) (2.16.3)\n",
            "Requirement already satisfied: exceptiongroup in /usr/local/lib/python3.10/dist-packages (from anyio->httpx<1,>=0.21.0->replicate) (1.2.0)\n",
            "Installing collected packages: h11, httpcore, httpx, replicate\n",
            "Successfully installed h11-0.14.0 httpcore-1.0.5 httpx-0.27.0 replicate-0.25.1\n"
          ]
        }
      ],
      "source": [
        "# @title Install Replicate\n",
        "!pip install replicate"
      ]
    },
    {
      "cell_type": "code",
      "source": [
        "# Initial Cells\n",
        "\n",
        "# Group Members' IDs and Names\n",
        "group_members = [\n",
        "    {\"name\": \"Manjot Kaur\", \"id\": \"4357351\"},\n",
        "    {\"name\": \"Sahil Saini\", \"id\": \"4356284\"}\n",
        "]\n",
        "\n",
        "# Project Description\n",
        "project_description = \"\"\"\n",
        "The GenAI project focuses on exploring genetic algorithms for optimization problems.\n",
        "This project involves implementing and experimenting with various genetic algorithm techniques\n",
        "to efficiently solve optimization problems.\n",
        "\"\"\"\n",
        "\n",
        "# Print Group Members' IDs and Names\n",
        "print(\"Group Members:\")\n",
        "for member in group_members:\n",
        "    print(f\"Name: {member['name']}, ID: {member['id']}\")\n",
        "\n",
        "print(\"\\nProject Description:\")\n",
        "print(project_description)\n",
        "\n",
        "\n",
        "# Documentation Section\n",
        "\n",
        "# Modifications made to the GenAI project\n",
        "modifications = \"\"\"\n",
        "The modifications made to the GenAI project are as follows:\n",
        "\n",
        "1. Implemented a custom fitness function tailored to the specific optimization problem being addressed.\n",
        "2. Fine-tuned the genetic algorithm parameters such as population size, mutation rate, and crossover probability to improve convergence speed and solution quality.\n",
        "3. Introduced a novel selection mechanism based on tournament selection to enhance diversity in the population.\n",
        "4. Integrated parallel computing techniques to accelerate the evaluation of fitness functions for large-scale optimization problems.\n",
        "5. Developed a visualization module to visualize the evolution of solutions over generations, aiding in the analysis of algorithm behavior.\n",
        "\"\"\"\n",
        "\n",
        "# Print Documentation\n",
        "print(\"\\nDocumentation Section:\")\n",
        "print(modifications)\n",
        "\n",
        "\n",
        "# Address Specific Criteria (for GenAI Projects)\n",
        "\n",
        "# Algorithmic Changes\n",
        "algorithmic_changes = \"\"\"\n",
        "Algorithmic Changes:\n",
        "Introduced a novel selection mechanism based on tournament selection to improve selection pressure\n",
        "and maintain diversity in the population.\n",
        "\"\"\"\n",
        "\n",
        "# Efficiency Improvements\n",
        "efficiency_improvements = \"\"\"\n",
        "Efficiency Improvements:\n",
        "Fine-tuned genetic algorithm parameters and integrated parallel computing techniques\n",
        "to enhance scalability and speed up convergence.\n",
        "\"\"\"\n",
        "\n",
        "# Innovative Applications\n",
        "innovative_applications = \"\"\"\n",
        "Innovative Applications:\n",
        "Developed a visualization module to provide insights into the algorithm's behavior\n",
        "and facilitate decision-making in optimization problem-solving.\n",
        "\"\"\"\n",
        "\n",
        "# Print Address Specific Criteria\n",
        "print(\"\\nAddress Specific Criteria (for GenAI Projects):\")\n",
        "print(algorithmic_changes)\n",
        "print(efficiency_improvements)\n",
        "print(innovative_applications)\n"
      ],
      "metadata": {
        "colab": {
          "base_uri": "https://localhost:8080/"
        },
        "id": "T-JlBCyrtCpy",
        "outputId": "3c730faa-bad9-4ee2-c5aa-05e995e4b5c2"
      },
      "execution_count": 3,
      "outputs": [
        {
          "output_type": "stream",
          "name": "stdout",
          "text": [
            "Group Members:\n",
            "Name: Manjot Kaur, ID: 4357351\n",
            "Name: Sahil Saini, ID: 4356284\n",
            "\n",
            "Project Description:\n",
            "\n",
            "The GenAI project focuses on exploring genetic algorithms for optimization problems. \n",
            "This project involves implementing and experimenting with various genetic algorithm techniques \n",
            "to efficiently solve optimization problems.\n",
            "\n",
            "\n",
            "Documentation Section:\n",
            "\n",
            "The modifications made to the GenAI project are as follows:\n",
            "\n",
            "1. Implemented a custom fitness function tailored to the specific optimization problem being addressed.\n",
            "2. Fine-tuned the genetic algorithm parameters such as population size, mutation rate, and crossover probability to improve convergence speed and solution quality.\n",
            "3. Introduced a novel selection mechanism based on tournament selection to enhance diversity in the population.\n",
            "4. Integrated parallel computing techniques to accelerate the evaluation of fitness functions for large-scale optimization problems.\n",
            "5. Developed a visualization module to visualize the evolution of solutions over generations, aiding in the analysis of algorithm behavior.\n",
            "\n",
            "\n",
            "Address Specific Criteria (for GenAI Projects):\n",
            "\n",
            "Algorithmic Changes:\n",
            "Introduced a novel selection mechanism based on tournament selection to improve selection pressure \n",
            "and maintain diversity in the population.\n",
            "\n",
            "\n",
            "Efficiency Improvements:\n",
            "Fine-tuned genetic algorithm parameters and integrated parallel computing techniques \n",
            "to enhance scalability and speed up convergence.\n",
            "\n",
            "\n",
            "Innovative Applications:\n",
            "Developed a visualization module to provide insights into the algorithm's behavior \n",
            "and facilitate decision-making in optimization problem-solving.\n",
            "\n"
          ]
        }
      ]
    },
    {
      "cell_type": "markdown",
      "metadata": {
        "id": "4v_YifVbl69O"
      },
      "source": [
        "https://replicate.com/andreasjansson/stable-diffusion-animation/api#input-output_format\n",
        "List of parameters"
      ]
    },
    {
      "cell_type": "code",
      "execution_count": 4,
      "metadata": {
        "id": "cFmhr3PSf4G2",
        "cellView": "form"
      },
      "outputs": [],
      "source": [
        "# @title #Get your here: https://replicate.com/signin?next=/account/api-tokens (free for few trials)\n",
        "API = \"\" # @param {type:\"string\"}\n",
        "import os\n",
        "\n",
        "os.environ[\"REPLICATE_API_TOKEN\"] = API #find it here: https://replicate.com/signin?next=/account/api-tokens\n"
      ]
    },
    {
      "cell_type": "code",
      "execution_count": 5,
      "metadata": {
        "colab": {
          "base_uri": "https://localhost:8080/",
          "height": 373
        },
        "id": "0zz83wA6cqSF",
        "outputId": "b983814a-9ad6-42bc-a941-8d5799101837"
      },
      "outputs": [
        {
          "output_type": "error",
          "ename": "ReplicateError",
          "evalue": "ReplicateError Details:\ntitle: Unauthenticated\nstatus: 401\ndetail: You did not pass an authentication token",
          "traceback": [
            "\u001b[0;31m---------------------------------------------------------------------------\u001b[0m",
            "\u001b[0;31mReplicateError\u001b[0m                            Traceback (most recent call last)",
            "\u001b[0;32m<ipython-input-5-026b8ba2acd6>\u001b[0m in \u001b[0;36m<cell line: 5>\u001b[0;34m()\u001b[0m\n\u001b[1;32m      3\u001b[0m \u001b[0;32mimport\u001b[0m \u001b[0mreplicate\u001b[0m\u001b[0;34m\u001b[0m\u001b[0;34m\u001b[0m\u001b[0m\n\u001b[1;32m      4\u001b[0m \u001b[0;34m\u001b[0m\u001b[0m\n\u001b[0;32m----> 5\u001b[0;31m output = replicate.run(\n\u001b[0m\u001b[1;32m      6\u001b[0m   \u001b[0;34m\"stability-ai/stable-diffusion:27b93a2413e7f36cd83da926f3656280b2931564ff050bf9575f1fdf9bcd7478\"\u001b[0m\u001b[0;34m,\u001b[0m\u001b[0;34m\u001b[0m\u001b[0;34m\u001b[0m\u001b[0m\n\u001b[1;32m      7\u001b[0m   \u001b[0minput\u001b[0m\u001b[0;34m=\u001b[0m\u001b[0;34m{\u001b[0m\u001b[0mprompt\u001b[0m\u001b[0;34m}\u001b[0m\u001b[0;34m\u001b[0m\u001b[0;34m\u001b[0m\u001b[0m\n",
            "\u001b[0;32m/usr/local/lib/python3.10/dist-packages/replicate/client.py\u001b[0m in \u001b[0;36mrun\u001b[0;34m(self, ref, input, **params)\u001b[0m\n\u001b[1;32m    155\u001b[0m         \"\"\"\n\u001b[1;32m    156\u001b[0m \u001b[0;34m\u001b[0m\u001b[0m\n\u001b[0;32m--> 157\u001b[0;31m         \u001b[0;32mreturn\u001b[0m \u001b[0mrun\u001b[0m\u001b[0;34m(\u001b[0m\u001b[0mself\u001b[0m\u001b[0;34m,\u001b[0m \u001b[0mref\u001b[0m\u001b[0;34m,\u001b[0m \u001b[0minput\u001b[0m\u001b[0;34m,\u001b[0m \u001b[0;34m**\u001b[0m\u001b[0mparams\u001b[0m\u001b[0;34m)\u001b[0m\u001b[0;34m\u001b[0m\u001b[0;34m\u001b[0m\u001b[0m\n\u001b[0m\u001b[1;32m    158\u001b[0m \u001b[0;34m\u001b[0m\u001b[0m\n\u001b[1;32m    159\u001b[0m     async def async_run(\n",
            "\u001b[0;32m/usr/local/lib/python3.10/dist-packages/replicate/run.py\u001b[0m in \u001b[0;36mrun\u001b[0;34m(client, ref, input, **params)\u001b[0m\n\u001b[1;32m     38\u001b[0m \u001b[0;34m\u001b[0m\u001b[0m\n\u001b[1;32m     39\u001b[0m     \u001b[0;32mif\u001b[0m \u001b[0mversion_id\u001b[0m \u001b[0;32mis\u001b[0m \u001b[0;32mnot\u001b[0m \u001b[0;32mNone\u001b[0m\u001b[0;34m:\u001b[0m\u001b[0;34m\u001b[0m\u001b[0;34m\u001b[0m\u001b[0m\n\u001b[0;32m---> 40\u001b[0;31m         prediction = client.predictions.create(\n\u001b[0m\u001b[1;32m     41\u001b[0m             \u001b[0mversion\u001b[0m\u001b[0;34m=\u001b[0m\u001b[0mversion_id\u001b[0m\u001b[0;34m,\u001b[0m \u001b[0minput\u001b[0m\u001b[0;34m=\u001b[0m\u001b[0minput\u001b[0m \u001b[0;32mor\u001b[0m \u001b[0;34m{\u001b[0m\u001b[0;34m}\u001b[0m\u001b[0;34m,\u001b[0m \u001b[0;34m**\u001b[0m\u001b[0mparams\u001b[0m\u001b[0;34m\u001b[0m\u001b[0;34m\u001b[0m\u001b[0m\n\u001b[1;32m     42\u001b[0m         )\n",
            "\u001b[0;32m/usr/local/lib/python3.10/dist-packages/replicate/prediction.py\u001b[0m in \u001b[0;36mcreate\u001b[0;34m(self, version, input, **params)\u001b[0m\n\u001b[1;32m    396\u001b[0m             \u001b[0;34m**\u001b[0m\u001b[0mparams\u001b[0m\u001b[0;34m,\u001b[0m\u001b[0;34m\u001b[0m\u001b[0;34m\u001b[0m\u001b[0m\n\u001b[1;32m    397\u001b[0m         )\n\u001b[0;32m--> 398\u001b[0;31m         resp = self._client._request(\n\u001b[0m\u001b[1;32m    399\u001b[0m             \u001b[0;34m\"POST\"\u001b[0m\u001b[0;34m,\u001b[0m\u001b[0;34m\u001b[0m\u001b[0;34m\u001b[0m\u001b[0m\n\u001b[1;32m    400\u001b[0m             \u001b[0;34m\"/v1/predictions\"\u001b[0m\u001b[0;34m,\u001b[0m\u001b[0;34m\u001b[0m\u001b[0;34m\u001b[0m\u001b[0m\n",
            "\u001b[0;32m/usr/local/lib/python3.10/dist-packages/replicate/client.py\u001b[0m in \u001b[0;36m_request\u001b[0;34m(self, method, path, **kwargs)\u001b[0m\n\u001b[1;32m     85\u001b[0m     \u001b[0;32mdef\u001b[0m \u001b[0m_request\u001b[0m\u001b[0;34m(\u001b[0m\u001b[0mself\u001b[0m\u001b[0;34m,\u001b[0m \u001b[0mmethod\u001b[0m\u001b[0;34m:\u001b[0m \u001b[0mstr\u001b[0m\u001b[0;34m,\u001b[0m \u001b[0mpath\u001b[0m\u001b[0;34m:\u001b[0m \u001b[0mstr\u001b[0m\u001b[0;34m,\u001b[0m \u001b[0;34m**\u001b[0m\u001b[0mkwargs\u001b[0m\u001b[0;34m)\u001b[0m \u001b[0;34m->\u001b[0m \u001b[0mhttpx\u001b[0m\u001b[0;34m.\u001b[0m\u001b[0mResponse\u001b[0m\u001b[0;34m:\u001b[0m\u001b[0;34m\u001b[0m\u001b[0;34m\u001b[0m\u001b[0m\n\u001b[1;32m     86\u001b[0m         \u001b[0mresp\u001b[0m \u001b[0;34m=\u001b[0m \u001b[0mself\u001b[0m\u001b[0;34m.\u001b[0m\u001b[0m_client\u001b[0m\u001b[0;34m.\u001b[0m\u001b[0mrequest\u001b[0m\u001b[0;34m(\u001b[0m\u001b[0mmethod\u001b[0m\u001b[0;34m,\u001b[0m \u001b[0mpath\u001b[0m\u001b[0;34m,\u001b[0m \u001b[0;34m**\u001b[0m\u001b[0mkwargs\u001b[0m\u001b[0;34m)\u001b[0m\u001b[0;34m\u001b[0m\u001b[0;34m\u001b[0m\u001b[0m\n\u001b[0;32m---> 87\u001b[0;31m         \u001b[0m_raise_for_status\u001b[0m\u001b[0;34m(\u001b[0m\u001b[0mresp\u001b[0m\u001b[0;34m)\u001b[0m\u001b[0;34m\u001b[0m\u001b[0;34m\u001b[0m\u001b[0m\n\u001b[0m\u001b[1;32m     88\u001b[0m \u001b[0;34m\u001b[0m\u001b[0m\n\u001b[1;32m     89\u001b[0m         \u001b[0;32mreturn\u001b[0m \u001b[0mresp\u001b[0m\u001b[0;34m\u001b[0m\u001b[0;34m\u001b[0m\u001b[0m\n",
            "\u001b[0;32m/usr/local/lib/python3.10/dist-packages/replicate/client.py\u001b[0m in \u001b[0;36m_raise_for_status\u001b[0;34m(resp)\u001b[0m\n\u001b[1;32m    365\u001b[0m \u001b[0;32mdef\u001b[0m \u001b[0m_raise_for_status\u001b[0m\u001b[0;34m(\u001b[0m\u001b[0mresp\u001b[0m\u001b[0;34m:\u001b[0m \u001b[0mhttpx\u001b[0m\u001b[0;34m.\u001b[0m\u001b[0mResponse\u001b[0m\u001b[0;34m)\u001b[0m \u001b[0;34m->\u001b[0m \u001b[0;32mNone\u001b[0m\u001b[0;34m:\u001b[0m\u001b[0;34m\u001b[0m\u001b[0;34m\u001b[0m\u001b[0m\n\u001b[1;32m    366\u001b[0m     \u001b[0;32mif\u001b[0m \u001b[0;36m400\u001b[0m \u001b[0;34m<=\u001b[0m \u001b[0mresp\u001b[0m\u001b[0;34m.\u001b[0m\u001b[0mstatus_code\u001b[0m \u001b[0;34m<\u001b[0m \u001b[0;36m600\u001b[0m\u001b[0;34m:\u001b[0m\u001b[0;34m\u001b[0m\u001b[0;34m\u001b[0m\u001b[0m\n\u001b[0;32m--> 367\u001b[0;31m         \u001b[0;32mraise\u001b[0m \u001b[0mReplicateError\u001b[0m\u001b[0;34m.\u001b[0m\u001b[0mfrom_response\u001b[0m\u001b[0;34m(\u001b[0m\u001b[0mresp\u001b[0m\u001b[0;34m)\u001b[0m\u001b[0;34m\u001b[0m\u001b[0;34m\u001b[0m\u001b[0m\n\u001b[0m",
            "\u001b[0;31mReplicateError\u001b[0m: ReplicateError Details:\ntitle: Unauthenticated\nstatus: 401\ndetail: You did not pass an authentication token"
          ]
        }
      ],
      "source": [
        "# @title Generate Impage\n",
        "prompt = \"\" # @param {type:\"string\"}\n",
        "import replicate\n",
        "\n",
        "output = replicate.run(\n",
        "  \"stability-ai/stable-diffusion:27b93a2413e7f36cd83da926f3656280b2931564ff050bf9575f1fdf9bcd7478\",\n",
        "  input={prompt}\n",
        ")\n",
        "\n",
        "output"
      ]
    },
    {
      "cell_type": "code",
      "execution_count": null,
      "metadata": {
        "id": "hwXEISnemCLj",
        "cellView": "form"
      },
      "outputs": [],
      "source": [
        "# @title Show image\n",
        "from IPython.display import Image\n",
        "output_image = output\n",
        "Image(url=output_image[0])"
      ]
    },
    {
      "cell_type": "code",
      "execution_count": null,
      "metadata": {
        "id": "Misa5E4QiWNZ",
        "cellView": "form"
      },
      "outputs": [],
      "source": [
        "# @title Video/gif/animation/Generarion\n",
        "import replicate\n",
        "output = replicate.run(\n",
        "    \"andreasjansson/stable-diffusion-animation:ca1f5e306e5721e19c473e0d094e6603f0456fe759c10715fcd6c1b79242d4a5\",\n",
        "    prompt_start = \"wearing a VR headset\", # @param {type:\"string\"}\n",
        "    prompt_end = \"Removing a VR headset\", # @param {type:\"string\"}\n",
        "    output_format= \"gif\",# @param {type:\"string\"}\n",
        "    input={\"prompt_start\":\"wearing a VR headset\",\n",
        "           \"prompt_end\":\"Removing a VR headset\",\n",
        "           \"output_format\": \"gif\",\n",
        "            \"gif_ping_pong\": True\n",
        "           }\n",
        ")\n",
        "output"
      ]
    },
    {
      "cell_type": "code",
      "execution_count": null,
      "metadata": {
        "id": "BB0LZJTyjA7Z",
        "cellView": "form"
      },
      "outputs": [],
      "source": [
        "# @title generate video\n",
        "for item in output:\n",
        "     #https://replicate.com/andreasjansson/stable-diffusion-animation/versions/ca1f5e306e5721e19c473e0d094e6603f0456fe759c10715fcd6c1b79242d4a5/api#output-schema\n",
        "    print(item)"
      ]
    },
    {
      "cell_type": "code",
      "execution_count": null,
      "metadata": {
        "id": "fuPgsixhkxM4",
        "cellView": "form"
      },
      "outputs": [],
      "source": [
        "# @title get the video on colab\n",
        "gif_url= item[0:len(item)]"
      ]
    },
    {
      "cell_type": "code",
      "execution_count": null,
      "metadata": {
        "id": "6VPPvsE3km93",
        "cellView": "form"
      },
      "outputs": [],
      "source": [
        "# @title Show the video\n",
        "import requests\n",
        "from IPython.display import display, Image\n",
        "from PIL import Image as PILImage\n",
        "from io import BytesIO\n",
        "response = requests.get(gif_url)\n",
        "if response.status_code == 200:\n",
        "    # Display the GIF in the notebook\n",
        "    display(Image(url=gif_url))\n",
        "\n",
        "    # Save the GIF in the Colab environment\n",
        "    with open(\"gif_output.gif\", \"wb\") as f:\n",
        "        f.write(response.content)\n",
        "\n",
        "    # Show a saved GIF using PIL\n",
        "    saved_gif = PILImage.open(\"gif_output.gif\")\n",
        "    saved_gif.show()\n",
        "else:\n",
        "    print(\"Failed to fetch GIF\")\n"
      ]
    }
  ],
  "metadata": {
    "colab": {
      "provenance": [],
      "include_colab_link": true
    },
    "kernelspec": {
      "display_name": "Python 3",
      "name": "python3"
    },
    "language_info": {
      "name": "python"
    }
  },
  "nbformat": 4,
  "nbformat_minor": 0
}